{
  "nbformat": 4,
  "nbformat_minor": 0,
  "metadata": {
    "colab": {
      "provenance": []
    },
    "kernelspec": {
      "name": "python3",
      "display_name": "Python 3"
    },
    "language_info": {
      "name": "python"
    }
  },
  "cells": [
    {
      "cell_type": "markdown",
      "source": [
        "# **Python NumPy Project | Airport Cabs Data Analysis**\n",
        "Follow you tube link---> https://www.youtube.com/watch?v=0xwFgi1rnlc&t=46s&ab_channel=KeshavSethi"
      ],
      "metadata": {
        "id": "alf0fw7mVAX7"
      }
    },
    {
      "cell_type": "code",
      "execution_count": 1,
      "metadata": {
        "id": "3x7CvWc_HKks"
      },
      "outputs": [],
      "source": [
        "import numpy as np"
      ]
    },
    {
      "cell_type": "code",
      "source": [
        "taxi = np.genfromtxt('nyc_taxis.csv', delimiter=',' , skip_header=True)"
      ],
      "metadata": {
        "id": "C-qt8g2xHuJ6"
      },
      "execution_count": 2,
      "outputs": []
    },
    {
      "cell_type": "markdown",
      "source": [
        "# **Calculate the speed of taxi.**"
      ],
      "metadata": {
        "id": "r7gzyjovMioY"
      }
    },
    {
      "cell_type": "code",
      "source": [
        "speed = taxi[:,7]/(taxi[:,8]/3600)"
      ],
      "metadata": {
        "id": "cpdygIASIMZb"
      },
      "execution_count": 5,
      "outputs": []
    },
    {
      "cell_type": "markdown",
      "source": [
        "# **Calculate mean speed.**"
      ],
      "metadata": {
        "id": "N7UrkBxKMqhQ"
      }
    },
    {
      "cell_type": "code",
      "source": [
        "mean_speed = speed.mean()\n",
        "print('The resultant speed is in miles per hour', mean_speed)"
      ],
      "metadata": {
        "colab": {
          "base_uri": "https://localhost:8080/"
        },
        "id": "6umy6Y1dJYdE",
        "outputId": "5623dbe0-c6e9-4268-f844-18cfb203603a"
      },
      "execution_count": 7,
      "outputs": [
        {
          "output_type": "stream",
          "name": "stdout",
          "text": [
            "The resultant speed is in miles per hour 32.24258580925573\n",
            "32.24258580925573\n"
          ]
        }
      ]
    },
    {
      "cell_type": "markdown",
      "source": [
        "***Explanation :::***\n",
        "\n",
        "\n",
        "The given Python code is performing a calculation to determine the speed of a taxi based on the values in a NumPy array.\n",
        "\n",
        "Let's break down the code:\n",
        "\n",
        "```python\n",
        "speed = taxi[:,7]/(taxi[:,8]/3600)\n",
        "```\n",
        "\n",
        "- `taxi` is a NumPy array.\n",
        "- `taxi[:,7]` selects the values from the 7th column of the `taxi` array. The `:` indicates that all rows are selected, while `7` specifies the column index.\n",
        "- `taxi[:,8]` selects the values from the 8th column of the `taxi` array in a similar manner.\n",
        "- `(taxi[:,8]/3600)` performs element-wise division of the values in the 8th column of `taxi` by 3600. This assumes that the values in the 8th column represent time in seconds, and this division is used to convert them into hours.\n",
        "- `taxi[:,7]/(taxi[:,8]/3600)` calculates the element-wise division of the values from the 7th column by the converted values from the 8th column. This division results in the speed of the taxi, represented in units of whatever the 7th column values represent per hour.\n",
        "\n",
        "The result of this calculation is assigned to the variable `speed`, which will hold an array or a vector containing the speeds corresponding to each row in the `taxi` array."
      ],
      "metadata": {
        "id": "jwuMieyXPN5l"
      }
    },
    {
      "cell_type": "markdown",
      "source": [
        "# **Calculate the number of rides in February month**"
      ],
      "metadata": {
        "id": "hLqJFLsWMS_R"
      }
    },
    {
      "cell_type": "code",
      "source": [
        "rides_Feb = taxi[taxi[:,1]== 2,1]\n",
        "print(rides_Feb.shape[0])"
      ],
      "metadata": {
        "colab": {
          "base_uri": "https://localhost:8080/"
        },
        "id": "CsnGtiT4MsrB",
        "outputId": "83d0c629-8f7e-47ed-ae36-846091b99f3c"
      },
      "execution_count": 10,
      "outputs": [
        {
          "output_type": "stream",
          "name": "stdout",
          "text": [
            "13333\n"
          ]
        }
      ]
    },
    {
      "cell_type": "markdown",
      "source": [],
      "metadata": {
        "id": "WYpOa1T5PlM9"
      }
    },
    {
      "cell_type": "markdown",
      "source": [
        "***Explanation:::***\n",
        "\n",
        "The given Python code is selecting specific rows from a NumPy array based on a condition and then printing the number of rows that satisfy that condition.\n",
        "\n",
        "Let's break down the code:\n",
        "\n",
        "```python\n",
        "rides_Feb = taxi[taxi[:,1] == 2, 1]\n",
        "```\n",
        "\n",
        "- `taxi` is a NumPy array.\n",
        "- `taxi[:,1]` selects the values from the 2nd column (index 1) of the `taxi` array. The `:` indicates that all rows are selected, while `1` specifies the column index.\n",
        "- `taxi[:,1] == 2` creates a boolean mask by comparing each value in the selected column to 2. It checks if the value is equal to 2 and returns a boolean array with `True` for the rows where the condition is satisfied and `False` for the rest.\n",
        "- `taxi[taxi[:,1] == 2, 1]` selects the values from the 2nd column (index 1) of the `taxi` array, but only for the rows where the condition `taxi[:,1] == 2` is `True`. This selects the rides that occurred in February.\n",
        "- The selected values are assigned to the variable `rides_Feb`.\n",
        "\n",
        "```python\n",
        "print(rides_Feb.shape[0])\n",
        "```\n",
        "\n",
        "- `rides_Feb.shape` returns the shape of the `rides_Feb` array, which is a tuple representing the number of rows and columns in the array.\n",
        "- `rides_Feb.shape[0]` accesses the first element of the shape tuple, which represents the number of rows in the `rides_Feb` array.\n",
        "- Finally, `print(rides_Feb.shape[0])` prints the number of rows, indicating the number of rides that occurred in February."
      ],
      "metadata": {
        "id": "G_SVy5tXO27x"
      }
    },
    {
      "cell_type": "markdown",
      "source": [
        "# **Calculate the number of rides where tips value is more than $50.**"
      ],
      "metadata": {
        "id": "inu4Cv0xNqFu"
      }
    },
    {
      "cell_type": "code",
      "source": [
        "tip_values_greater_than_50 = taxi[taxi[:,12]>50,12]\n",
        "print(tip_values_greater_than_50.shape[0])"
      ],
      "metadata": {
        "colab": {
          "base_uri": "https://localhost:8080/"
        },
        "id": "2jc2AWtoKuJ7",
        "outputId": "206c843d-e1aa-4030-8def-bfe5771aafeb"
      },
      "execution_count": 14,
      "outputs": [
        {
          "output_type": "stream",
          "name": "stdout",
          "text": [
            "16\n"
          ]
        }
      ]
    },
    {
      "cell_type": "markdown",
      "source": [
        "# **Calculate the number of rides where the drop was JFK airport.**\n",
        "Note that the JFK location code is 2."
      ],
      "metadata": {
        "id": "m5YZm56ATmMT"
      }
    },
    {
      "cell_type": "code",
      "source": [
        "dropoff_JFK = taxi[taxi[:,6]== 2,6]\n",
        "print(dropoff_JFK.shape[0])"
      ],
      "metadata": {
        "colab": {
          "base_uri": "https://localhost:8080/"
        },
        "id": "sr0KsUQWQAwg",
        "outputId": "5e79175e-4791-4110-cb41-ff497f27dc72"
      },
      "execution_count": 16,
      "outputs": [
        {
          "output_type": "stream",
          "name": "stdout",
          "text": [
            "11832\n"
          ]
        }
      ]
    },
    {
      "cell_type": "markdown",
      "source": [],
      "metadata": {
        "id": "RLDARkuRTuRx"
      }
    }
  ]
}